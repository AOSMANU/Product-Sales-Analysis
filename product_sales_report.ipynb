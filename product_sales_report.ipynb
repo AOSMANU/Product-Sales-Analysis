{
 "cells": [
  {
   "cell_type": "markdown",
   "id": "8ab218a5",
   "metadata": {},
   "source": [
    "# Data Analysis - Product Sales"
   ]
  },
  {
   "cell_type": "markdown",
   "id": "4b227b5b",
   "metadata": {},
   "source": [
    "## Data Validation"
   ]
  },
  {
   "cell_type": "markdown",
   "id": "b3d99aad",
   "metadata": {},
   "source": [
    "The initial dataset comprised 15,000 rows and 8 columns. All columns were thoroughly validated against the criteria outlined in the dataset table.\n",
    "\n",
    "1. **week**: the column contained integer values from 1 to 6, representing each week, with no omissions. No cleaning is needed.\n",
    "2. **sales_method**: the column initially contained five unique values: 'Email', 'Call', 'Email + Call', 'em + call', and 'email'. Upon inspection, these were found to be variations of the same three sales methods due to capitalization and abbreviations. The column was cleaned to contain only three unique values: 'Email', 'Call', and 'Email + Call'.\n",
    "3. **customer_id**: the column contained unique identifiers for each customer without missing values. No cleaning is needed.\n",
    "4. **nb_sold**: contained valid data with no missing values. No cleaning is needed.\n",
    "5. **revenue**: the column had 1074 missing entries. These missing values were imputed by replacing them with the mean revenue corresponding to each sales_method.\n",
    "6. **years_as_customer**: the column had no omissions, however, two rows contained invalid values (47 and 63 years) exceeding the company's founding year (1984). Assuming these were data entry errors, these values were replaced with the maximum possible value of 41 years.\n",
    "7. **nb_site_visits**: contained valid data with no missing values. No cleaning is needed.\n",
    "8. **state**: the column contained 50 unique values representing each state with no omissions. No cleaning is needed.\n",
    "\n",
    "After data cleaning and validation, no duplicate rows were found. The final dataset comprises 15,000 rows and 8 columns with no missing entries."
   ]
  },
  {
   "cell_type": "markdown",
   "id": "e2bb83f9",
   "metadata": {},
   "source": [
    "## How many customers were there for each approach?\n",
    "\n",
    "Email is the most frequently used sales method during the 6 week period, with 7,466 customers reached. Call is the second most common method, reaching 4,962 customers, while combined method (Email + Call) is the least used, reaching fewer than 2,572 customers. With the high number of customers reached via Email, it indicates that Email is the most scalable method and likely incurs lower costs per customer compared to Call or Email + Call.\n",
    "![Number of Customers Reached by Sales Method](customer_count.png)"
   ]
  },
  {
   "cell_type": "markdown",
   "id": "5b62a880",
   "metadata": {},
   "source": [
    "## What does the spread of the revenue look like overall? And for each method?\n",
    "The histogram below shows that the distribution of revenue is multimodal. This gives indicates that there might be different customer segments with distinct revenue patterns. The distribution is relatively wide, suggesting that there is a considerable amount of variability in the revenue values.\n",
    "\n",
    "![The Distribution of Revenue Histogram](revenue_dist_hist.png)\n",
    "\n",
    "The boxplot confirms that there is a considerable spread in the revenue values, as observed from the multimodal nature of the histogram. The median revenue is 90.95, indicating the midpoint of the data. The interquartile range (IQR), spanning from 52.65 (25th percentile) to 107.75 (75th percentile), represents the middle 50% of the revenue distribution, showing a moderate spread.\n",
    "\n",
    "![The Distribution of Revenue Boxplot](revenue_dist_boxplot.png)\n",
    "\n",
    "The boxplot for Email shows a relatively low median revenue and a relatively narrow interquartile range (IQR), which suggest that revenue from Email is generally lower and less variable. Email + Call method have the highest median revenue and a wider IQR compared to Email. This suggests that combining Email and Call approach might lead to higher revenue, but with greater variability in outcomes. The Call method shows a lower median revenue compared to Email + Call, but also a narrower IQR, suggesting more consistent revenue generation.\n",
    "\n",
    "The boxplot suggests that while Email + Call has the potential for higher revenue, it also carries more risk in terms of variability. Call approach seem to generate more consistent revenue, although at a lower median value.\n",
    "\n",
    "\n",
    "![The Distribution of Revenue by Sales Method](multi_boxplot.png)"
   ]
  },
  {
   "cell_type": "markdown",
   "id": "256f5672",
   "metadata": {},
   "source": [
    "## Was there any difference in revenue over time for each of the methods?\n",
    "The line plot of sales revenue over the 6 weeks reveals distinct trends for the three different sales methods. While Email generated the highest initial revenue, it showed a consistent decline over time. Conversely, Call revenue generally increased before a late-period dip. The Email + Call method demonstrated a steady upward trend, suggesting its potential for greater long-term revenue generation compared to the other two methods.\n",
    "\n",
    "\n",
    "![Revenue Trend Over Time by Sales Method](revenue_overtime_lineplot.png)\n",
    "\n",
    "The stacked bar chart of number of products sold by week and sales method over the 6 weeks shows varying contributions. Email, initially the dominant method (as observed in the line plot showing its high starting revenue), saw its share decrease significantly. Conversely, both Call and Email + Call increased their contributions over time, with Email + Call becoming a substantial contributor in later weeks, approaching or exceeding Call in the final week, mirroring its upward trend seen in the line plot.\n",
    "\n",
    "\n",
    "![Number of Products Sold by Week and Sales Method](nb_sold_week_salesm.png)"
   ]
  },
  {
   "cell_type": "markdown",
   "id": "6e08a26a",
   "metadata": {},
   "source": [
    "## Customer Characteristics\n",
    "\n",
    "Customers reached through Email method tend to have been with the company for slightly longer than those reached through other methods. Email + Call method appears to have the lowest average years as a customer. Customers reached through Call method have a slightly higher average years as a customer compared to Email + Call.\n",
    "\n",
    "![Years as Customer by Sales Method](yrs_as_customer.png)\n",
    "\n",
    "\n",
    "The scatter plot shows the relationship between the number of website visits and revenue, segmented by sales method. Email + Call consistently generates the highest revenue, often exceeding 150 and reaching up to 200, while Email achieves mid-level revenue, with most values concentrated between 50 and 150. Call produces the lowest revenue overall, rarely exceeding 100. \n",
    "\n",
    "On the impact of website visits, for Email and Call, revenue remains clustered in the lower ranges, with minimal improvement as website visits increase. For Email + Call, revenue remains consistently high across a wide range of website visits (15–40). This suggests its effectiveness does not heavily depend on site engagement.\n",
    "\n",
    "![Revenue vs. Website Visits by Sales Method](scatterplot_rev_site_visit.png)"
   ]
  },
  {
   "cell_type": "markdown",
   "id": "88def5ab",
   "metadata": {},
   "source": [
    "### Business Metrics\n",
    "\n",
    "Since the goal is to use the best sales techniques to sell new product effectively, I recommend the use of  Average Revenue per Customer by Sales Method as our metric. \n",
    "\n",
    "The Average Revenue per Customer by Sales Method analysis reveals that the Email sales method has the highest value 194.25, followed by Email + Call 183.65, and then Call 15.86. While this initially suggests that Call is the most efficient method, further investigation reveals nuanced factors. The Email + Call method demonstrated stronger overall performance, with evidence of higher website visits and a greater average number of items purchased per customer. It has the highest customer conversion rate of  12.2% while and Email and Call are having similar rates, 9.7% and 9.5% respectively. Additionally, the Email + Call method exhibited consistent revenue growth throughout the 6-week period. Conversely, the Call method, despite its high initial revenue, showed a decline over time."
   ]
  },
  {
   "cell_type": "markdown",
   "id": "171191d1",
   "metadata": {},
   "source": [
    "### Recommendation\n",
    "\n",
    "I would recommend we prioritize the Email + Call sales method. While Email has the highest Average Revenue per Customer by Sales Method, Email + Call demonstrates superior customer engagement (higher website visits, more items purchased), consistent revenue growth over time, and a sustainable balance of effort and return. The Call method shows declining revenue and lower efficiency.\n",
    "\n",
    "By implementing this recommendation and continuously monitoring key metrics, we can optimize sales efforts, improve customer relationships, and drive sustainable revenue growth."
   ]
  },
  {
   "cell_type": "code",
   "execution_count": null,
   "id": "cb75e115",
   "metadata": {},
   "outputs": [],
   "source": []
  }
 ],
 "metadata": {
  "kernelspec": {
   "display_name": "Python 3 (ipykernel)",
   "language": "python",
   "name": "python3"
  },
  "language_info": {
   "codemirror_mode": {
    "name": "ipython",
    "version": 3
   },
   "file_extension": ".py",
   "mimetype": "text/x-python",
   "name": "python",
   "nbconvert_exporter": "python",
   "pygments_lexer": "ipython3",
   "version": "3.9.7"
  }
 },
 "nbformat": 4,
 "nbformat_minor": 5
}
